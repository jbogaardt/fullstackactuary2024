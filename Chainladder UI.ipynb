{
 "cells": [
  {
   "cell_type": "code",
   "execution_count": 0,
   "metadata": {
    "application/vnd.databricks.v1+cell": {
     "cellMetadata": {
      "byteLimit": 2048000,
      "rowLimit": 10000
     },
     "inputWidgets": {},
     "nuid": "4416f1d6-ec50-466c-913f-e3124464f746",
     "showTitle": false,
     "tableResultSettingsMap": {},
     "title": ""
    }
   },
   "outputs": [
    {
     "output_type": "stream",
     "name": "stdout",
     "output_type": "stream",
     "text": [
      "Requirement already satisfied: numpy==1.26.4 in /local_disk0/.ephemeral_nfs/envs/pythonEnv-f1e78e11-a9ed-4eff-9e46-d7cc7dcdcc15/lib/python3.11/site-packages (1.26.4)\n\u001B[43mNote: you may need to restart the kernel using %restart_python or dbutils.library.restartPython() to use updated packages.\u001B[0m\nRequirement already satisfied: itables in /local_disk0/.ephemeral_nfs/envs/pythonEnv-f1e78e11-a9ed-4eff-9e46-d7cc7dcdcc15/lib/python3.11/site-packages (2.2.5)\nRequirement already satisfied: ipython in /databricks/python3/lib/python3.11/site-packages (from itables) (8.25.0)\nRequirement already satisfied: numpy in /local_disk0/.ephemeral_nfs/envs/pythonEnv-f1e78e11-a9ed-4eff-9e46-d7cc7dcdcc15/lib/python3.11/site-packages (from itables) (1.26.4)\nRequirement already satisfied: pandas in /local_disk0/.ephemeral_nfs/envs/pythonEnv-f1e78e11-a9ed-4eff-9e46-d7cc7dcdcc15/lib/python3.11/site-packages (from itables) (2.2.3)\nRequirement already satisfied: decorator in /databricks/python3/lib/python3.11/site-packages (from ipython->itables) (5.1.1)\nRequirement already satisfied: jedi>=0.16 in /databricks/python3/lib/python3.11/site-packages (from ipython->itables) (0.18.1)\nRequirement already satisfied: matplotlib-inline in /databricks/python3/lib/python3.11/site-packages (from ipython->itables) (0.1.6)\nRequirement already satisfied: prompt-toolkit<3.1.0,>=3.0.41 in /databricks/python3/lib/python3.11/site-packages (from ipython->itables) (3.0.48)\nRequirement already satisfied: pygments>=2.4.0 in /databricks/python3/lib/python3.11/site-packages (from ipython->itables) (2.15.1)\nRequirement already satisfied: stack-data in /databricks/python3/lib/python3.11/site-packages (from ipython->itables) (0.2.0)\nRequirement already satisfied: traitlets>=5.13.0 in /databricks/python3/lib/python3.11/site-packages (from ipython->itables) (5.13.0)\nRequirement already satisfied: typing-extensions>=4.6 in /databricks/python3/lib/python3.11/site-packages (from ipython->itables) (4.10.0)\nRequirement already satisfied: pexpect>4.3 in /databricks/python3/lib/python3.11/site-packages (from ipython->itables) (4.8.0)\nRequirement already satisfied: python-dateutil>=2.8.2 in /databricks/python3/lib/python3.11/site-packages (from pandas->itables) (2.8.2)\nRequirement already satisfied: pytz>=2020.1 in /databricks/python3/lib/python3.11/site-packages (from pandas->itables) (2022.7)\nRequirement already satisfied: tzdata>=2022.7 in /local_disk0/.ephemeral_nfs/envs/pythonEnv-f1e78e11-a9ed-4eff-9e46-d7cc7dcdcc15/lib/python3.11/site-packages (from pandas->itables) (2025.1)\nRequirement already satisfied: parso<0.9.0,>=0.8.0 in /databricks/python3/lib/python3.11/site-packages (from jedi>=0.16->ipython->itables) (0.8.3)\nRequirement already satisfied: ptyprocess>=0.5 in /databricks/python3/lib/python3.11/site-packages (from pexpect>4.3->ipython->itables) (0.7.0)\nRequirement already satisfied: wcwidth in /databricks/python3/lib/python3.11/site-packages (from prompt-toolkit<3.1.0,>=3.0.41->ipython->itables) (0.2.5)\nRequirement already satisfied: six>=1.5 in /usr/lib/python3/dist-packages (from python-dateutil>=2.8.2->pandas->itables) (1.16.0)\nRequirement already satisfied: executing in /databricks/python3/lib/python3.11/site-packages (from stack-data->ipython->itables) (0.8.3)\nRequirement already satisfied: asttokens in /databricks/python3/lib/python3.11/site-packages (from stack-data->ipython->itables) (2.0.5)\nRequirement already satisfied: pure-eval in /databricks/python3/lib/python3.11/site-packages (from stack-data->ipython->itables) (0.2.2)\n\u001B[43mNote: you may need to restart the kernel using %restart_python or dbutils.library.restartPython() to use updated packages.\u001B[0m\nRequirement already satisfied: itables[widget] in /local_disk0/.ephemeral_nfs/envs/pythonEnv-f1e78e11-a9ed-4eff-9e46-d7cc7dcdcc15/lib/python3.11/site-packages (2.2.5)\nRequirement already satisfied: ipython in /databricks/python3/lib/python3.11/site-packages (from itables[widget]) (8.25.0)\nRequirement already satisfied: numpy in /local_disk0/.ephemeral_nfs/envs/pythonEnv-f1e78e11-a9ed-4eff-9e46-d7cc7dcdcc15/lib/python3.11/site-packages (from itables[widget]) (1.26.4)\nRequirement already satisfied: pandas in /local_disk0/.ephemeral_nfs/envs/pythonEnv-f1e78e11-a9ed-4eff-9e46-d7cc7dcdcc15/lib/python3.11/site-packages (from itables[widget]) (2.2.3)\nRequirement already satisfied: anywidget in /local_disk0/.ephemeral_nfs/envs/pythonEnv-f1e78e11-a9ed-4eff-9e46-d7cc7dcdcc15/lib/python3.11/site-packages (from itables[widget]) (0.9.15)\nRequirement already satisfied: traitlets in /databricks/python3/lib/python3.11/site-packages (from itables[widget]) (5.13.0)\nRequirement already satisfied: ipywidgets>=7.6.0 in /databricks/python3/lib/python3.11/site-packages (from anywidget->itables[widget]) (7.7.2)\nRequirement already satisfied: psygnal>=0.8.1 in /local_disk0/.ephemeral_nfs/envs/pythonEnv-f1e78e11-a9ed-4eff-9e46-d7cc7dcdcc15/lib/python3.11/site-packages (from anywidget->itables[widget]) (0.12.0)\nRequirement already satisfied: typing-extensions>=4.2.0 in /databricks/python3/lib/python3.11/site-packages (from anywidget->itables[widget]) (4.10.0)\nRequirement already satisfied: decorator in /databricks/python3/lib/python3.11/site-packages (from ipython->itables[widget]) (5.1.1)\nRequirement already satisfied: jedi>=0.16 in /databricks/python3/lib/python3.11/site-packages (from ipython->itables[widget]) (0.18.1)\nRequirement already satisfied: matplotlib-inline in /databricks/python3/lib/python3.11/site-packages (from ipython->itables[widget]) (0.1.6)\nRequirement already satisfied: prompt-toolkit<3.1.0,>=3.0.41 in /databricks/python3/lib/python3.11/site-packages (from ipython->itables[widget]) (3.0.48)\nRequirement already satisfied: pygments>=2.4.0 in /databricks/python3/lib/python3.11/site-packages (from ipython->itables[widget]) (2.15.1)\nRequirement already satisfied: stack-data in /databricks/python3/lib/python3.11/site-packages (from ipython->itables[widget]) (0.2.0)\nRequirement already satisfied: pexpect>4.3 in /databricks/python3/lib/python3.11/site-packages (from ipython->itables[widget]) (4.8.0)\nRequirement already satisfied: python-dateutil>=2.8.2 in /databricks/python3/lib/python3.11/site-packages (from pandas->itables[widget]) (2.8.2)\nRequirement already satisfied: pytz>=2020.1 in /databricks/python3/lib/python3.11/site-packages (from pandas->itables[widget]) (2022.7)\nRequirement already satisfied: tzdata>=2022.7 in /local_disk0/.ephemeral_nfs/envs/pythonEnv-f1e78e11-a9ed-4eff-9e46-d7cc7dcdcc15/lib/python3.11/site-packages (from pandas->itables[widget]) (2025.1)\nRequirement already satisfied: ipykernel>=4.5.1 in /databricks/python3/lib/python3.11/site-packages (from ipywidgets>=7.6.0->anywidget->itables[widget]) (6.28.0)\nRequirement already satisfied: ipython-genutils~=0.2.0 in /databricks/python3/lib/python3.11/site-packages (from ipywidgets>=7.6.0->anywidget->itables[widget]) (0.2.0)\nRequirement already satisfied: parso<0.9.0,>=0.8.0 in /databricks/python3/lib/python3.11/site-packages (from jedi>=0.16->ipython->itables[widget]) (0.8.3)\nRequirement already satisfied: ptyprocess>=0.5 in /databricks/python3/lib/python3.11/site-packages (from pexpect>4.3->ipython->itables[widget]) (0.7.0)\nRequirement already satisfied: wcwidth in /databricks/python3/lib/python3.11/site-packages (from prompt-toolkit<3.1.0,>=3.0.41->ipython->itables[widget]) (0.2.5)\nRequirement already satisfied: six>=1.5 in /usr/lib/python3/dist-packages (from python-dateutil>=2.8.2->pandas->itables[widget]) (1.16.0)\nRequirement already satisfied: executing in /databricks/python3/lib/python3.11/site-packages (from stack-data->ipython->itables[widget]) (0.8.3)\nRequirement already satisfied: asttokens in /databricks/python3/lib/python3.11/site-packages (from stack-data->ipython->itables[widget]) (2.0.5)\nRequirement already satisfied: pure-eval in /databricks/python3/lib/python3.11/site-packages (from stack-data->ipython->itables[widget]) (0.2.2)\nRequirement already satisfied: comm>=0.1.1 in /databricks/python3/lib/python3.11/site-packages (from ipykernel>=4.5.1->ipywidgets>=7.6.0->anywidget->itables[widget]) (0.1.2)\nRequirement already satisfied: debugpy>=1.6.5 in /databricks/python3/lib/python3.11/site-packages (from ipykernel>=4.5.1->ipywidgets>=7.6.0->anywidget->itables[widget]) (1.6.7)\nRequirement already satisfied: jupyter-client>=6.1.12 in /databricks/python3/lib/python3.11/site-packages (from ipykernel>=4.5.1->ipywidgets>=7.6.0->anywidget->itables[widget]) (7.4.9)\nRequirement already satisfied: jupyter-core!=5.0.*,>=4.12 in /databricks/python3/lib/python3.11/site-packages (from ipykernel>=4.5.1->ipywidgets>=7.6.0->anywidget->itables[widget]) (5.3.0)\nRequirement already satisfied: nest-asyncio in /databricks/python3/lib/python3.11/site-packages (from ipykernel>=4.5.1->ipywidgets>=7.6.0->anywidget->itables[widget]) (1.5.6)\nRequirement already satisfied: packaging in /databricks/python3/lib/python3.11/site-packages (from ipykernel>=4.5.1->ipywidgets>=7.6.0->anywidget->itables[widget]) (23.2)\nRequirement already satisfied: psutil in /databricks/python3/lib/python3.11/site-packages (from ipykernel>=4.5.1->ipywidgets>=7.6.0->anywidget->itables[widget]) (5.9.0)\nRequirement already satisfied: pyzmq>=24 in /databricks/python3/lib/python3.11/site-packages (from ipykernel>=4.5.1->ipywidgets>=7.6.0->anywidget->itables[widget]) (25.1.2)\nRequirement already satisfied: tornado>=6.1 in /databricks/python3/lib/python3.11/site-packages (from ipykernel>=4.5.1->ipywidgets>=7.6.0->anywidget->itables[widget]) (6.3.2)\nRequirement already satisfied: entrypoints in /databricks/python3/lib/python3.11/site-packages (from jupyter-client>=6.1.12->ipykernel>=4.5.1->ipywidgets>=7.6.0->anywidget->itables[widget]) (0.4)\nRequirement already satisfied: platformdirs>=2.5 in /databricks/python3/lib/python3.11/site-packages (from jupyter-core!=5.0.*,>=4.12->ipykernel>=4.5.1->ipywidgets>=7.6.0->anywidget->itables[widget]) (3.10.0)\n\u001B[43mNote: you may need to restart the kernel using %restart_python or dbutils.library.restartPython() to use updated packages.\u001B[0m\nRequirement already satisfied: chainladder in /local_disk0/.ephemeral_nfs/envs/pythonEnv-f1e78e11-a9ed-4eff-9e46-d7cc7dcdcc15/lib/python3.11/site-packages (0.8.24)\nRequirement already satisfied: pandas>=2.0 in /local_disk0/.ephemeral_nfs/envs/pythonEnv-f1e78e11-a9ed-4eff-9e46-d7cc7dcdcc15/lib/python3.11/site-packages (from chainladder) (2.2.3)\nRequirement already satisfied: scikit-learn>1.4.2 in /local_disk0/.ephemeral_nfs/envs/pythonEnv-f1e78e11-a9ed-4eff-9e46-d7cc7dcdcc15/lib/python3.11/site-packages (from chainladder) (1.6.1)\nRequirement already satisfied: numba>0.54 in /local_disk0/.ephemeral_nfs/envs/pythonEnv-f1e78e11-a9ed-4eff-9e46-d7cc7dcdcc15/lib/python3.11/site-packages (from chainladder) (0.61.0)\nRequirement already satisfied: sparse>=0.9 in /local_disk0/.ephemeral_nfs/envs/pythonEnv-f1e78e11-a9ed-4eff-9e46-d7cc7dcdcc15/lib/python3.11/site-packages (from chainladder) (0.15.5)\nRequirement already satisfied: matplotlib in /databricks/python3/lib/python3.11/site-packages (from chainladder) (3.7.2)\nRequirement already satisfied: dill in /databricks/python3/lib/python3.11/site-packages (from chainladder) (0.3.6)\nRequirement already satisfied: patsy in /databricks/python3/lib/python3.11/site-packages (from chainladder) (0.5.3)\nRequirement already satisfied: llvmlite<0.45,>=0.44.0dev0 in /local_disk0/.ephemeral_nfs/envs/pythonEnv-f1e78e11-a9ed-4eff-9e46-d7cc7dcdcc15/lib/python3.11/site-packages (from numba>0.54->chainladder) (0.44.0)\nRequirement already satisfied: numpy<2.2,>=1.24 in /local_disk0/.ephemeral_nfs/envs/pythonEnv-f1e78e11-a9ed-4eff-9e46-d7cc7dcdcc15/lib/python3.11/site-packages (from numba>0.54->chainladder) (1.26.4)\nRequirement already satisfied: python-dateutil>=2.8.2 in /databricks/python3/lib/python3.11/site-packages (from pandas>=2.0->chainladder) (2.8.2)\nRequirement already satisfied: pytz>=2020.1 in /databricks/python3/lib/python3.11/site-packages (from pandas>=2.0->chainladder) (2022.7)\nRequirement already satisfied: tzdata>=2022.7 in /local_disk0/.ephemeral_nfs/envs/pythonEnv-f1e78e11-a9ed-4eff-9e46-d7cc7dcdcc15/lib/python3.11/site-packages (from pandas>=2.0->chainladder) (2025.1)\nRequirement already satisfied: scipy>=1.6.0 in /databricks/python3/lib/python3.11/site-packages (from scikit-learn>1.4.2->chainladder) (1.11.1)\nRequirement already satisfied: joblib>=1.2.0 in /databricks/python3/lib/python3.11/site-packages (from scikit-learn>1.4.2->chainladder) (1.2.0)\nRequirement already satisfied: threadpoolctl>=3.1.0 in /local_disk0/.ephemeral_nfs/envs/pythonEnv-f1e78e11-a9ed-4eff-9e46-d7cc7dcdcc15/lib/python3.11/site-packages (from scikit-learn>1.4.2->chainladder) (3.6.0)\nRequirement already satisfied: contourpy>=1.0.1 in /databricks/python3/lib/python3.11/site-packages (from matplotlib->chainladder) (1.0.5)\nRequirement already satisfied: cycler>=0.10 in /databricks/python3/lib/python3.11/site-packages (from matplotlib->chainladder) (0.11.0)\nRequirement already satisfied: fonttools>=4.22.0 in /databricks/python3/lib/python3.11/site-packages (from matplotlib->chainladder) (4.25.0)\nRequirement already satisfied: kiwisolver>=1.0.1 in /databricks/python3/lib/python3.11/site-packages (from matplotlib->chainladder) (1.4.4)\nRequirement already satisfied: packaging>=20.0 in /databricks/python3/lib/python3.11/site-packages (from matplotlib->chainladder) (23.2)\nRequirement already satisfied: pillow>=6.2.0 in /databricks/python3/lib/python3.11/site-packages (from matplotlib->chainladder) (10.3.0)\nRequirement already satisfied: pyparsing<3.1,>=2.3.1 in /databricks/python3/lib/python3.11/site-packages (from matplotlib->chainladder) (3.0.9)\nRequirement already satisfied: six in /usr/lib/python3/dist-packages (from patsy->chainladder) (1.16.0)\n\u001B[43mNote: you may need to restart the kernel using %restart_python or dbutils.library.restartPython() to use updated packages.\u001B[0m\n"
     ]
    }
   ],
   "source": [
    "!pip install numpy==1.26.4\n",
    "!pip install itables\n",
    "!pip install itables[widget]\n",
    "!pip install chainladder\n",
    "dbutils.library.restartPython()"
   ]
  },
  {
   "cell_type": "code",
   "execution_count": 0,
   "metadata": {
    "application/vnd.databricks.v1+cell": {
     "cellMetadata": {
      "byteLimit": 2048000,
      "rowLimit": 10000
     },
     "inputWidgets": {},
     "nuid": "5f416a36-a0fb-43ce-9bb2-86187bd824bc",
     "showTitle": false,
     "tableResultSettingsMap": {},
     "title": ""
    }
   },
   "outputs": [],
   "source": [
    "import numpy as np\n",
    "import pandas as pd\n",
    "import chainladder as cl\n",
    "import warnings"
   ]
  },
  {
   "cell_type": "code",
   "execution_count": 0,
   "metadata": {
    "application/vnd.databricks.v1+cell": {
     "cellMetadata": {
      "byteLimit": 2048000,
      "rowLimit": 10000
     },
     "inputWidgets": {},
     "nuid": "ed394e33-8467-4326-b2f8-54a5ca44867b",
     "showTitle": false,
     "tableResultSettingsMap": {},
     "title": ""
    }
   },
   "outputs": [],
   "source": [
    "#extract weights in a single column\n",
    "def get_weights(dev):\n",
    "    if hasattr(dev, \"w_\"):\n",
    "        weights = np.reshape(dev.w_[...,:-1,:],(-1))\n",
    "        weights = np.nan_to_num(weights)\n",
    "        weights = np.argwhere(weights==1)\n",
    "        weights = np.reshape(weights,(-1))\n",
    "        return weights\n",
    "    else:\n",
    "        warnings.warn(\"Development has not been fitted.\")\n",
    "        return None"
   ]
  },
  {
   "cell_type": "code",
   "execution_count": 0,
   "metadata": {
    "application/vnd.databricks.v1+cell": {
     "cellMetadata": {
      "byteLimit": 2048000,
      "rowLimit": 10000
     },
     "inputWidgets": {},
     "nuid": "811c43d4-b2a9-407b-8416-d1a0f4e0d4fe",
     "showTitle": false,
     "tableResultSettingsMap": {},
     "title": ""
    }
   },
   "outputs": [],
   "source": [
    "#extract factors in a single column\n",
    "def get_factors(tri):\n",
    "    return tri.link_ratio.to_frame().melt(var_name='DevPeriod', value_name='LDF',ignore_index=False)"
   ]
  },
  {
   "cell_type": "code",
   "execution_count": 0,
   "metadata": {
    "application/vnd.databricks.v1+cell": {
     "cellMetadata": {
      "byteLimit": 2048000,
      "rowLimit": 10000
     },
     "inputWidgets": {},
     "nuid": "7d72f1ff-c3b4-42b1-b11f-fe80acd5db8b",
     "showTitle": false,
     "tableResultSettingsMap": {},
     "title": ""
    }
   },
   "outputs": [],
   "source": [
    "#convert selected weights back into an argument for the development object\n",
    "def get_drop(od, sel):\n",
    "    unsel = list(set(range(len(df))) - set(sel))\n",
    "    val = od.iloc[unsel].reset_index()\n",
    "    val['index'] = val['index'].astype(str)\n",
    "    val['DevPeriod'] = val['DevPeriod'].str.extract('^([^_]*)-')\n",
    "    val['DevPeriod'] = val['DevPeriod'].astype(int)\n",
    "    val = val[['index','DevPeriod']].itertuples(index=False,name=None)\n",
    "    return list(val)"
   ]
  },
  {
   "cell_type": "code",
   "execution_count": 0,
   "metadata": {
    "application/vnd.databricks.v1+cell": {
     "cellMetadata": {
      "byteLimit": 2048000,
      "rowLimit": 10000
     },
     "inputWidgets": {},
     "nuid": "e05fd656-cf09-46d8-bd96-6146fedbb5d2",
     "showTitle": false,
     "tableResultSettingsMap": {},
     "title": ""
    }
   },
   "outputs": [
    {
     "output_type": "display_data",
     "data": {
      "application/vnd.jupyter.widget-view+json": {
       "model_id": "85a24055b3ef415b8230fea08a8ffdb5",
       "version_major": 2,
       "version_minor": 0
      },
      "text/plain": [
       "ITable(classes='display nowrap', selected_rows=[5, 6, 7, 8, 13, 14, 15, 16, 21, 22, 23, 24, 29, 30, 31, 32, 37…"
      ]
     },
     "metadata": {},
     "output_type": "display_data"
    }
   ],
   "source": [
    "from itables.widget import ITable\n",
    "genins = cl.load_sample(\"genins\")\n",
    "#drop_high=0 is not purely decorational. Specifying n_periods only yields an incorrect but non-consequential weight array in that there is an extra diagonal of 1.\n",
    "dev = cl.Development(n_periods=4, drop_high=0).fit_transform(genins)\n",
    "w = get_weights(dev)\n",
    "df = get_factors(genins)\n",
    "table = ITable(df, selected_rows=w.tolist(), select=\"multi\", lengthMenu = [9])\n",
    "table"
   ]
  },
  {
   "cell_type": "code",
   "execution_count": 0,
   "metadata": {
    "application/vnd.databricks.v1+cell": {
     "cellMetadata": {
      "byteLimit": 2048000,
      "rowLimit": 10000
     },
     "inputWidgets": {},
     "nuid": "2bf3cc85-3ef4-40e9-893f-4ff80b02c979",
     "showTitle": false,
     "tableResultSettingsMap": {},
     "title": ""
    }
   },
   "outputs": [
    {
     "output_type": "stream",
     "name": "stdout",
     "output_type": "stream",
     "text": [
      "LDF from original selection\n          12-24    24-36     36-48     48-60    60-72     72-84     84-96    96-108   108-120\n(All)  3.436526  1.85231  1.470665  1.173507  1.08481  1.086269  1.053874  1.076555  1.017725\nLDF from UI selection\n          12-24     24-36     36-48     48-60    60-72     72-84     84-96    96-108   108-120\n(All)  3.243668  1.927407  1.470665  1.173507  1.08481  1.086269  1.053874  1.076555  1.017725\n"
     ]
    }
   ],
   "source": [
    "val = get_drop(df, table.selected_rows)\n",
    "manual_dev = cl.Development(drop = val).fit(genins)\n",
    "print(\"LDF from original selection\")\n",
    "print(dev.ldf_)\n",
    "print(\"LDF from UI selection\")\n",
    "print(manual_dev.ldf_)"
   ]
  },
  {
   "cell_type": "code",
   "execution_count": 0,
   "metadata": {
    "application/vnd.databricks.v1+cell": {
     "cellMetadata": {},
     "inputWidgets": {},
     "nuid": "83671fa7-4e16-4c32-a48e-8f0d9a6a27df",
     "showTitle": false,
     "tableResultSettingsMap": {},
     "title": ""
    }
   },
   "outputs": [],
   "source": []
  }
 ],
 "metadata": {
  "application/vnd.databricks.v1+notebook": {
   "computePreferences": null,
   "dashboards": [],
   "environmentMetadata": {
    "base_environment": "",
    "environment_version": "2"
   },
   "language": "python",
   "notebookMetadata": {
    "pythonIndentUnit": 4
   },
   "notebookName": "Chainladder UI",
   "widgets": {}
  },
  "language_info": {
   "name": "python"
  }
 },
 "nbformat": 4,
 "nbformat_minor": 0
}